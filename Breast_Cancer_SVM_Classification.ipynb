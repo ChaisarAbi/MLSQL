{
  "metadata": {
    "kernelspec": {
      "language": "python",
      "display_name": "Python 3",
      "name": "python3"
    },
    "language_info": {
      "name": "python",
      "version": "3.10.14",
      "mimetype": "text/x-python",
      "codemirror_mode": {
        "name": "ipython",
        "version": 3
      },
      "pygments_lexer": "ipython3",
      "nbconvert_exporter": "python",
      "file_extension": ".py"
    },
    "kaggle": {
      "accelerator": "none",
      "dataSources": [
        {
          "sourceId": 408,
          "sourceType": "datasetVersion",
          "datasetId": 180
        }
      ],
      "dockerImageVersionId": 30761,
      "isInternetEnabled": false,
      "language": "python",
      "sourceType": "notebook",
      "isGpuEnabled": false
    },
    "colab": {
      "name": "Breast Cancer SVM Classification",
      "provenance": [],
      "include_colab_link": true
    }
  },
  "nbformat_minor": 0,
  "nbformat": 4,
  "cells": [
    {
      "cell_type": "markdown",
      "metadata": {
        "id": "view-in-github",
        "colab_type": "text"
      },
      "source": [
        "<a href=\"https://colab.research.google.com/github/ChaisarAbi/MLSQL/blob/Machine-Learning/Breast_Cancer_SVM_Classification.ipynb\" target=\"_parent\"><img src=\"https://colab.research.google.com/assets/colab-badge.svg\" alt=\"Open In Colab\"/></a>"
      ]
    },
    {
      "source": [
        "\n",
        "# IMPORTANT: RUN THIS CELL IN ORDER TO IMPORT YOUR KAGGLE DATA SOURCES\n",
        "# TO THE CORRECT LOCATION (/kaggle/input) IN YOUR NOTEBOOK,\n",
        "# THEN FEEL FREE TO DELETE THIS CELL.\n",
        "# NOTE: THIS NOTEBOOK ENVIRONMENT DIFFERS FROM KAGGLE'S PYTHON\n",
        "# ENVIRONMENT SO THERE MAY BE MISSING LIBRARIES USED BY YOUR\n",
        "# NOTEBOOK.\n",
        "\n",
        "import os\n",
        "import sys\n",
        "from tempfile import NamedTemporaryFile\n",
        "from urllib.request import urlopen\n",
        "from urllib.parse import unquote, urlparse\n",
        "from urllib.error import HTTPError\n",
        "from zipfile import ZipFile\n",
        "import tarfile\n",
        "import shutil\n",
        "\n",
        "CHUNK_SIZE = 40960\n",
        "DATA_SOURCE_MAPPING = 'breast-cancer-wisconsin-data:https%3A%2F%2Fstorage.googleapis.com%2Fkaggle-data-sets%2F180%2F408%2Fbundle%2Farchive.zip%3FX-Goog-Algorithm%3DGOOG4-RSA-SHA256%26X-Goog-Credential%3Dgcp-kaggle-com%2540kaggle-161607.iam.gserviceaccount.com%252F20240901%252Fauto%252Fstorage%252Fgoog4_request%26X-Goog-Date%3D20240901T032647Z%26X-Goog-Expires%3D259200%26X-Goog-SignedHeaders%3Dhost%26X-Goog-Signature%3Db9f2dfecec7cfe1c6e93cf8faaf5ad41836243b4ff63c855fc7211beb409cda0393fba81bf64e9138f8c74402756f21fc90eb9734e1994ee1db2426f87e336ffe18bdec405c7a6057a1192661472d675ff0724e04501f7506c9edbd3caac175d9075f8089f579b040e30bbcc353332e46a41d0b6f742e4ab24875ce8815da6dfa7ca700fec733af48c61dea734e058d265835e857bae0c1235f776a2a88a55ffd8075aa0b27c5c3300e0406148f821d61ef6a7ed0e18cad7864e83cc96bb4796ede659989aaa28b335615a161c0842435f8e2d00198bd7aee3dc321f4a57a22f0d175c0d1d8eddcdb3304b51da7be8e2a921b15d85d5b4dd7d192a0a7ac9fbfa'\n",
        "\n",
        "KAGGLE_INPUT_PATH='/kaggle/input'\n",
        "KAGGLE_WORKING_PATH='/kaggle/working'\n",
        "KAGGLE_SYMLINK='kaggle'\n",
        "\n",
        "!umount /kaggle/input/ 2> /dev/null\n",
        "shutil.rmtree('/kaggle/input', ignore_errors=True)\n",
        "os.makedirs(KAGGLE_INPUT_PATH, 0o777, exist_ok=True)\n",
        "os.makedirs(KAGGLE_WORKING_PATH, 0o777, exist_ok=True)\n",
        "\n",
        "try:\n",
        "  os.symlink(KAGGLE_INPUT_PATH, os.path.join(\"..\", 'input'), target_is_directory=True)\n",
        "except FileExistsError:\n",
        "  pass\n",
        "try:\n",
        "  os.symlink(KAGGLE_WORKING_PATH, os.path.join(\"..\", 'working'), target_is_directory=True)\n",
        "except FileExistsError:\n",
        "  pass\n",
        "\n",
        "for data_source_mapping in DATA_SOURCE_MAPPING.split(','):\n",
        "    directory, download_url_encoded = data_source_mapping.split(':')\n",
        "    download_url = unquote(download_url_encoded)\n",
        "    filename = urlparse(download_url).path\n",
        "    destination_path = os.path.join(KAGGLE_INPUT_PATH, directory)\n",
        "    try:\n",
        "        with urlopen(download_url) as fileres, NamedTemporaryFile() as tfile:\n",
        "            total_length = fileres.headers['content-length']\n",
        "            print(f'Downloading {directory}, {total_length} bytes compressed')\n",
        "            dl = 0\n",
        "            data = fileres.read(CHUNK_SIZE)\n",
        "            while len(data) > 0:\n",
        "                dl += len(data)\n",
        "                tfile.write(data)\n",
        "                done = int(50 * dl / int(total_length))\n",
        "                sys.stdout.write(f\"\\r[{'=' * done}{' ' * (50-done)}] {dl} bytes downloaded\")\n",
        "                sys.stdout.flush()\n",
        "                data = fileres.read(CHUNK_SIZE)\n",
        "            if filename.endswith('.zip'):\n",
        "              with ZipFile(tfile) as zfile:\n",
        "                zfile.extractall(destination_path)\n",
        "            else:\n",
        "              with tarfile.open(tfile.name) as tarfile:\n",
        "                tarfile.extractall(destination_path)\n",
        "            print(f'\\nDownloaded and uncompressed: {directory}')\n",
        "    except HTTPError as e:\n",
        "        print(f'Failed to load (likely expired) {download_url} to path {destination_path}')\n",
        "        continue\n",
        "    except OSError as e:\n",
        "        print(f'Failed to load {download_url} to path {destination_path}')\n",
        "        continue\n",
        "\n",
        "print('Data source import complete.')\n"
      ],
      "metadata": {
        "id": "L8cePlehnzs5",
        "outputId": "cffbb919-85b9-4479-a75f-c6855a65a884",
        "colab": {
          "base_uri": "https://localhost:8080/"
        }
      },
      "cell_type": "code",
      "outputs": [
        {
          "output_type": "stream",
          "name": "stdout",
          "text": [
            "Downloading breast-cancer-wisconsin-data, 49796 bytes compressed\n",
            "[==================================================] 49796 bytes downloaded\n",
            "Downloaded and uncompressed: breast-cancer-wisconsin-data\n",
            "Data source import complete.\n"
          ]
        }
      ],
      "execution_count": 1
    },
    {
      "cell_type": "code",
      "source": [
        "#import library\n",
        "import pandas as pd\n",
        "import numpy as np\n",
        "\n",
        "#library visualisasi\n",
        "import matplotlib.pyplot as plt\n",
        "%matplotlib inline\n",
        "import seaborn as sns\n",
        "\n",
        "# {Pemisah data\n",
        "from sklearn.model_selection import train_test_split\n",
        "\n",
        "# data modeling\n",
        "from sklearn.svm import SVC\n",
        "from sklearn.neighbors import KNeighborsClassifier\n",
        "\n",
        "# performa data\n",
        "from sklearn.model_selection import RandomizedSearchCV,GridSearchCV\n",
        "from sklearn.model_selection import KFold\n",
        "from sklearn.metrics import f1_score, accuracy_score, confusion_matrix, classification_report\n",
        "from sklearn import metrics\n",
        "\n",
        "#warnings\n",
        "import warnings\n",
        "warnings.simplefilter(action='ignore')"
      ],
      "metadata": {
        "_uuid": "8f2839f25d086af736a60e9eeb907d3b93b6e0e5",
        "_cell_guid": "b1076dfc-b9ad-4769-8c92-a6c4dae69d19",
        "execution": {
          "iopub.status.busy": "2024-08-31T05:57:40.035517Z",
          "iopub.execute_input": "2024-08-31T05:57:40.036082Z",
          "iopub.status.idle": "2024-08-31T05:57:42.060693Z",
          "shell.execute_reply.started": "2024-08-31T05:57:40.036014Z",
          "shell.execute_reply": "2024-08-31T05:57:42.059341Z"
        },
        "trusted": true,
        "id": "HrLRaF1snzth"
      },
      "execution_count": 2,
      "outputs": []
    },
    {
      "cell_type": "code",
      "source": [
        "#import dataset\n",
        "import os\n",
        "for dirname, _, filenames in os.walk('/kaggle/input'):\n",
        "    for filename in filenames:\n",
        "        print(os.path.join(dirname, filename))"
      ],
      "metadata": {
        "execution": {
          "iopub.status.busy": "2024-08-31T05:57:42.063092Z",
          "iopub.execute_input": "2024-08-31T05:57:42.06384Z",
          "iopub.status.idle": "2024-08-31T05:57:42.075888Z",
          "shell.execute_reply.started": "2024-08-31T05:57:42.063778Z",
          "shell.execute_reply": "2024-08-31T05:57:42.074746Z"
        },
        "trusted": true,
        "id": "7FHKBUcEnztl",
        "outputId": "103789f9-c28a-4f14-dd15-02203c558e3f",
        "colab": {
          "base_uri": "https://localhost:8080/"
        }
      },
      "execution_count": 3,
      "outputs": [
        {
          "output_type": "stream",
          "name": "stdout",
          "text": [
            "/kaggle/input/breast-cancer-wisconsin-data/data.csv\n"
          ]
        }
      ]
    },
    {
      "cell_type": "code",
      "source": [],
      "metadata": {
        "id": "nE_XA1zwoDIO"
      },
      "execution_count": null,
      "outputs": []
    },
    {
      "cell_type": "code",
      "source": [
        "# Dataframe datasets\n",
        "df = pd.read_csv('/kaggle/input/breast-cancer-wisconsin-data/data.csv')\n",
        "df.head()"
      ],
      "metadata": {
        "execution": {
          "iopub.status.busy": "2024-08-31T05:57:42.077393Z",
          "iopub.execute_input": "2024-08-31T05:57:42.077779Z",
          "iopub.status.idle": "2024-08-31T05:57:42.162643Z",
          "shell.execute_reply.started": "2024-08-31T05:57:42.077731Z",
          "shell.execute_reply": "2024-08-31T05:57:42.161006Z"
        },
        "trusted": true,
        "id": "_G0sw6pFnzto"
      },
      "execution_count": null,
      "outputs": []
    },
    {
      "cell_type": "code",
      "source": [
        "#Info dataframe\n",
        "df.info()"
      ],
      "metadata": {
        "execution": {
          "iopub.status.busy": "2024-08-31T05:57:42.165326Z",
          "iopub.execute_input": "2024-08-31T05:57:42.165752Z",
          "iopub.status.idle": "2024-08-31T05:57:42.193678Z",
          "shell.execute_reply.started": "2024-08-31T05:57:42.165709Z",
          "shell.execute_reply": "2024-08-31T05:57:42.19243Z"
        },
        "trusted": true,
        "id": "Iue20dInnzts"
      },
      "execution_count": null,
      "outputs": []
    },
    {
      "cell_type": "code",
      "source": [
        "df.drop(['id', 'Unnamed: 32'], axis=1, inplace = True)"
      ],
      "metadata": {
        "execution": {
          "iopub.status.busy": "2024-08-31T05:57:42.195176Z",
          "iopub.execute_input": "2024-08-31T05:57:42.195558Z",
          "iopub.status.idle": "2024-08-31T05:57:42.203354Z",
          "shell.execute_reply.started": "2024-08-31T05:57:42.195513Z",
          "shell.execute_reply": "2024-08-31T05:57:42.201933Z"
        },
        "trusted": true,
        "id": "K85BRSq8nztu"
      },
      "execution_count": null,
      "outputs": []
    },
    {
      "cell_type": "code",
      "source": [
        "# Periksa tipe data setiap kolom\n",
        "print(df.dtypes)\n"
      ],
      "metadata": {
        "execution": {
          "iopub.status.busy": "2024-08-31T05:57:42.205087Z",
          "iopub.execute_input": "2024-08-31T05:57:42.205607Z",
          "iopub.status.idle": "2024-08-31T05:57:42.219891Z",
          "shell.execute_reply.started": "2024-08-31T05:57:42.205542Z",
          "shell.execute_reply": "2024-08-31T05:57:42.218451Z"
        },
        "trusted": true,
        "id": "T2K0XiVpnztw"
      },
      "execution_count": null,
      "outputs": []
    },
    {
      "cell_type": "code",
      "source": [
        "# Mengubah kolom diagnosis menjadi numerik dengan B = 0 dan M = 1\n",
        "df['diagnosis'] = df['diagnosis'].map({'B': 0, 'M': 1})\n",
        "\n",
        "print(df['diagnosis'].head())\n"
      ],
      "metadata": {
        "execution": {
          "iopub.status.busy": "2024-08-31T05:57:42.221713Z",
          "iopub.execute_input": "2024-08-31T05:57:42.222308Z",
          "iopub.status.idle": "2024-08-31T05:57:42.234985Z",
          "shell.execute_reply.started": "2024-08-31T05:57:42.22224Z",
          "shell.execute_reply": "2024-08-31T05:57:42.233788Z"
        },
        "trusted": true,
        "id": "tmo8I-xznzt0"
      },
      "execution_count": null,
      "outputs": []
    },
    {
      "cell_type": "code",
      "source": [
        "df.info()"
      ],
      "metadata": {
        "execution": {
          "iopub.status.busy": "2024-08-31T05:57:42.236967Z",
          "iopub.execute_input": "2024-08-31T05:57:42.237509Z",
          "iopub.status.idle": "2024-08-31T05:57:42.25872Z",
          "shell.execute_reply.started": "2024-08-31T05:57:42.237447Z",
          "shell.execute_reply": "2024-08-31T05:57:42.257329Z"
        },
        "trusted": true,
        "id": "ZNCdp1y4nzt3"
      },
      "execution_count": null,
      "outputs": []
    },
    {
      "cell_type": "code",
      "source": [
        "Q1 = df.quantile(0.25)\n",
        "Q3 = df.quantile(0.75)\n",
        "IQR = Q3 - Q1\n",
        "\n",
        "# Mendefinisikan Outlier sebagai data di luar rentang [Q1 - 1.5*IQR, Q3 + 1.5*IQR]\n",
        "outliers = (df < (Q1 - 1.5 * IQR)) | (df > (Q3 + 1.5 * IQR))\n",
        "\n",
        "# Menampilkan baris yang mengandung outlier\n",
        "outlier_data = df[outliers.any(axis=1)]\n",
        "outlier_data"
      ],
      "metadata": {
        "execution": {
          "iopub.status.busy": "2024-08-31T05:57:42.259838Z",
          "iopub.execute_input": "2024-08-31T05:57:42.260214Z",
          "iopub.status.idle": "2024-08-31T05:57:42.314965Z",
          "shell.execute_reply.started": "2024-08-31T05:57:42.260173Z",
          "shell.execute_reply": "2024-08-31T05:57:42.313351Z"
        },
        "trusted": true,
        "id": "vcXE7AIJnzt7"
      },
      "execution_count": null,
      "outputs": []
    },
    {
      "cell_type": "code",
      "source": [
        "plt.figure(figsize=(15,10))\n",
        "sns.boxplot(data=df, orient='h', palette=\"Set2\")\n",
        "plt.title('Boxplot Deteksi Outlier')\n",
        "plt.show()"
      ],
      "metadata": {
        "execution": {
          "iopub.status.busy": "2024-08-31T05:57:42.31987Z",
          "iopub.execute_input": "2024-08-31T05:57:42.320319Z",
          "iopub.status.idle": "2024-08-31T05:57:43.273365Z",
          "shell.execute_reply.started": "2024-08-31T05:57:42.320271Z",
          "shell.execute_reply": "2024-08-31T05:57:43.271677Z"
        },
        "trusted": true,
        "id": "CTlgoQOvnzt9"
      },
      "execution_count": null,
      "outputs": []
    },
    {
      "cell_type": "code",
      "source": [
        "df_outliers_replaced = df.copy()\n",
        "df_outliers_replaced = df_outliers_replaced.mask((df_outliers_replaced < (Q1 - 1.5 * IQR)) | (df_outliers_replaced > (Q3 + 1.5 * IQR)), other=df_outliers_replaced.median(), axis=1)\n"
      ],
      "metadata": {
        "execution": {
          "iopub.status.busy": "2024-08-31T05:58:05.800585Z",
          "iopub.execute_input": "2024-08-31T05:58:05.801242Z",
          "iopub.status.idle": "2024-08-31T05:58:05.821813Z",
          "shell.execute_reply.started": "2024-08-31T05:58:05.801178Z",
          "shell.execute_reply": "2024-08-31T05:58:05.819906Z"
        },
        "trusted": true,
        "id": "3gDP1rATnzt_"
      },
      "execution_count": null,
      "outputs": []
    },
    {
      "cell_type": "code",
      "source": [
        "plt.figure(figsize=(15,10))\n",
        "sns.boxplot(data=df_outliers_replaced, orient='h', palette=\"Set2\")\n",
        "plt.title('Boxplot Setelah Penanganan Outlier')\n",
        "plt.savefig('boxplot_setelah_penanganan_outlier.png', dpi=300, bbox_inches='tight')\n",
        "plt.show()"
      ],
      "metadata": {
        "execution": {
          "iopub.status.busy": "2024-08-31T05:57:43.275302Z",
          "iopub.execute_input": "2024-08-31T05:57:43.275833Z",
          "iopub.status.idle": "2024-08-31T05:57:43.95285Z",
          "shell.execute_reply.started": "2024-08-31T05:57:43.275773Z",
          "shell.execute_reply": "2024-08-31T05:57:43.950349Z"
        },
        "trusted": true,
        "id": "1Ws-9FPDnzuA"
      },
      "execution_count": null,
      "outputs": []
    },
    {
      "cell_type": "code",
      "source": [
        "plt.figure(figsize=(15,10))\n",
        "sns.boxplot(data=df, orient='h', palette=\"Set2\")\n",
        "plt.title('Boxplot untuk Deteksi Outlier')\n",
        "plt.show()"
      ],
      "metadata": {
        "execution": {
          "iopub.status.busy": "2024-08-31T05:58:08.015557Z",
          "iopub.execute_input": "2024-08-31T05:58:08.016132Z",
          "iopub.status.idle": "2024-08-31T05:58:08.992539Z",
          "shell.execute_reply.started": "2024-08-31T05:58:08.01608Z",
          "shell.execute_reply": "2024-08-31T05:58:08.990954Z"
        },
        "trusted": true,
        "id": "5nns0VpinzuC"
      },
      "execution_count": null,
      "outputs": []
    },
    {
      "cell_type": "code",
      "source": [
        "outlier_data.info()"
      ],
      "metadata": {
        "execution": {
          "iopub.status.busy": "2024-08-31T05:58:12.402698Z",
          "iopub.execute_input": "2024-08-31T05:58:12.403284Z",
          "iopub.status.idle": "2024-08-31T05:58:12.419714Z",
          "shell.execute_reply.started": "2024-08-31T05:58:12.403233Z",
          "shell.execute_reply": "2024-08-31T05:58:12.418211Z"
        },
        "trusted": true,
        "id": "gs5uK2_8nzuC"
      },
      "execution_count": null,
      "outputs": []
    },
    {
      "cell_type": "code",
      "source": [
        "#Menghitung data pada kolom diagnosis\n",
        "df['diagnosis'].value_counts()"
      ],
      "metadata": {
        "execution": {
          "iopub.status.busy": "2024-08-31T05:58:15.8356Z",
          "iopub.execute_input": "2024-08-31T05:58:15.836215Z",
          "iopub.status.idle": "2024-08-31T05:58:15.852308Z",
          "shell.execute_reply.started": "2024-08-31T05:58:15.836152Z",
          "shell.execute_reply": "2024-08-31T05:58:15.850581Z"
        },
        "trusted": true,
        "id": "8t1nGlOKnzuD"
      },
      "execution_count": null,
      "outputs": []
    },
    {
      "cell_type": "code",
      "source": [
        "correlation = df.corr()['diagnosis'].sort_values(ascending=False)\n",
        "\n",
        "# Menampilkan korelasi\n",
        "print(correlation)"
      ],
      "metadata": {
        "execution": {
          "iopub.status.busy": "2024-08-31T05:58:18.656506Z",
          "iopub.execute_input": "2024-08-31T05:58:18.657087Z",
          "iopub.status.idle": "2024-08-31T05:58:18.672674Z",
          "shell.execute_reply.started": "2024-08-31T05:58:18.657019Z",
          "shell.execute_reply": "2024-08-31T05:58:18.671159Z"
        },
        "trusted": true,
        "id": "wuzDtsnonzuE"
      },
      "execution_count": null,
      "outputs": []
    },
    {
      "cell_type": "code",
      "source": [
        "# Membuat plot korelasi\n",
        "plt.figure(figsize=(10, 8))\n",
        "sns.barplot(x=correlation.index, y=correlation.values)\n",
        "\n",
        "# Menambahkan judul dan label\n",
        "plt.title('Korelasi Fitur dengan Diagnosis')\n",
        "plt.xlabel('Fitur')\n",
        "plt.ylabel('Nilai Korelasi')\n",
        "plt.xticks(rotation=90)\n",
        "plt.show()\n"
      ],
      "metadata": {
        "execution": {
          "iopub.status.busy": "2024-08-31T05:58:21.966447Z",
          "iopub.execute_input": "2024-08-31T05:58:21.967006Z",
          "iopub.status.idle": "2024-08-31T05:58:22.605451Z",
          "shell.execute_reply.started": "2024-08-31T05:58:21.966955Z",
          "shell.execute_reply": "2024-08-31T05:58:22.603858Z"
        },
        "trusted": true,
        "id": "56Jfuf4ynzuF"
      },
      "execution_count": null,
      "outputs": []
    },
    {
      "cell_type": "code",
      "source": [
        "\n",
        "# Menghitung statistik deskriptif\n",
        "descriptive_stats = df.describe()\n",
        "\n",
        "# Menyimpan ke file Excel\n",
        "descriptive_stats.to_excel('descriptive_statistics.xlsx')\n"
      ],
      "metadata": {
        "execution": {
          "iopub.status.busy": "2024-08-31T05:58:25.934802Z",
          "iopub.execute_input": "2024-08-31T05:58:25.93533Z",
          "iopub.status.idle": "2024-08-31T05:58:26.423439Z",
          "shell.execute_reply.started": "2024-08-31T05:58:25.935281Z",
          "shell.execute_reply": "2024-08-31T05:58:26.422167Z"
        },
        "trusted": true,
        "id": "hjSS9lAjnzuG"
      },
      "execution_count": null,
      "outputs": []
    },
    {
      "cell_type": "code",
      "source": [
        "import seaborn as sns\n",
        "import matplotlib.pyplot as plt\n",
        "\n",
        "# Membuat box plot\n",
        "plt.figure(figsize=(10, 6))\n",
        "sns.boxplot(x='diagnosis', y='concave points_worst', data=df)\n",
        "plt.title('Distribusi Concave Points Worst terhadap Diagnosis')\n",
        "plt.xlabel('Diagnosis (0=B, 1=M)')\n",
        "plt.ylabel('Concave Points Worst')\n",
        "plt.show()\n"
      ],
      "metadata": {
        "execution": {
          "iopub.status.busy": "2024-08-31T05:58:32.065103Z",
          "iopub.execute_input": "2024-08-31T05:58:32.065999Z",
          "iopub.status.idle": "2024-08-31T05:58:32.429368Z",
          "shell.execute_reply.started": "2024-08-31T05:58:32.065938Z",
          "shell.execute_reply": "2024-08-31T05:58:32.42764Z"
        },
        "trusted": true,
        "id": "uKJoiZTPnzuG"
      },
      "execution_count": null,
      "outputs": []
    },
    {
      "cell_type": "code",
      "source": [
        "import pandas as pd\n",
        "\n",
        "# Mengkategorikan concave points worst berdasarkan diagnosis\n",
        "concave_points_by_diagnosis = df.groupby('diagnosis')['perimeter_worst'].sum()\n",
        "\n",
        "# Membuat pie chart\n",
        "plt.figure(figsize=(8, 8))\n",
        "concave_points_by_diagnosis.plot(kind='pie', autopct='%1.1f%%')\n",
        "plt.title('Pie Chart perimeter_worst vs Diagnosis')\n",
        "plt.ylabel('')  # Menghilangkan label y\n",
        "\n",
        "plt.show()\n"
      ],
      "metadata": {
        "execution": {
          "iopub.status.busy": "2024-08-31T05:58:35.205606Z",
          "iopub.execute_input": "2024-08-31T05:58:35.206301Z",
          "iopub.status.idle": "2024-08-31T05:58:35.452094Z",
          "shell.execute_reply.started": "2024-08-31T05:58:35.206236Z",
          "shell.execute_reply": "2024-08-31T05:58:35.432675Z"
        },
        "trusted": true,
        "id": "PzrVU0f-nzuH"
      },
      "execution_count": null,
      "outputs": []
    },
    {
      "cell_type": "code",
      "source": [
        "import seaborn as sns\n",
        "import matplotlib.pyplot as plt\n",
        "\n",
        "# Membuat boxplot\n",
        "plt.figure(figsize=(10, 6))\n",
        "sns.boxplot(x='diagnosis', y='concave points_worst', data=df)\n",
        "plt.title('Boxplot Concave Points Worst vs Diagnosis')\n",
        "plt.xlabel('Diagnosis (B=0, M=1)')\n",
        "plt.ylabel('Concave Points Worst')\n",
        "plt.show()\n"
      ],
      "metadata": {
        "execution": {
          "iopub.status.busy": "2024-08-31T05:58:51.694915Z",
          "iopub.execute_input": "2024-08-31T05:58:51.695458Z",
          "iopub.status.idle": "2024-08-31T05:58:52.001412Z",
          "shell.execute_reply.started": "2024-08-31T05:58:51.695407Z",
          "shell.execute_reply": "2024-08-31T05:58:51.99994Z"
        },
        "trusted": true,
        "id": "WOj1QNeEnzuK"
      },
      "execution_count": null,
      "outputs": []
    },
    {
      "cell_type": "code",
      "source": [
        "import seaborn as sns\n",
        "\n",
        "# Menghitung korelasi\n",
        "correlation = df[['concave points_worst', 'diagnosis']].corr()\n",
        "\n",
        "# Membuat heatmap\n",
        "plt.figure(figsize=(8, 6))\n",
        "sns.heatmap(correlation, annot=True, cmap='coolwarm', vmin=-1, vmax=1)\n",
        "plt.title('Heatmap Korelasi Concave Points Worst vs Diagnosis')\n",
        "plt.show()\n"
      ],
      "metadata": {
        "execution": {
          "iopub.status.busy": "2024-08-31T05:58:55.924425Z",
          "iopub.execute_input": "2024-08-31T05:58:55.925525Z",
          "iopub.status.idle": "2024-08-31T05:58:56.302968Z",
          "shell.execute_reply.started": "2024-08-31T05:58:55.925452Z",
          "shell.execute_reply": "2024-08-31T05:58:56.301458Z"
        },
        "trusted": true,
        "id": "z8CCB5nxnzuL"
      },
      "execution_count": null,
      "outputs": []
    },
    {
      "cell_type": "code",
      "source": [
        "import matplotlib.pyplot as plt\n",
        "import seaborn as sns\n",
        "\n",
        "# List kolom yang ingin dianalisis\n",
        "columns = [\n",
        "    'perimeter_worst',\n",
        "    'concave points_mean',\n",
        "    'radius_worst',\n",
        "    'perimeter_mean',\n",
        "    'area_worst',\n",
        "    'radius_mean',\n",
        "    'area_mean',\n",
        "    'concavity_mean',\n",
        "    'concavity_worst'\n",
        "]\n",
        "\n",
        "# Membuat boxplot untuk setiap kolom vs diagnosis\n",
        "for col in columns:\n",
        "    plt.figure(figsize=(8, 6))\n",
        "    sns.boxplot(x='diagnosis', y=col, data=df)\n",
        "    plt.title(f'Distribusi {col} terhadap Diagnosis')\n",
        "    plt.xlabel('Diagnosis (0=Benign, 1=Malignant)')\n",
        "    plt.ylabel(col)\n",
        "    plt.show()\n"
      ],
      "metadata": {
        "execution": {
          "iopub.status.busy": "2024-08-31T05:59:03.266809Z",
          "iopub.execute_input": "2024-08-31T05:59:03.268286Z",
          "iopub.status.idle": "2024-08-31T05:59:05.41403Z",
          "shell.execute_reply.started": "2024-08-31T05:59:03.268196Z",
          "shell.execute_reply": "2024-08-31T05:59:05.412475Z"
        },
        "trusted": true,
        "id": "-oezTDK_nzuN"
      },
      "execution_count": null,
      "outputs": []
    },
    {
      "cell_type": "code",
      "source": [
        "df.info()"
      ],
      "metadata": {
        "execution": {
          "iopub.status.busy": "2024-08-31T05:59:19.116381Z",
          "iopub.execute_input": "2024-08-31T05:59:19.117106Z",
          "iopub.status.idle": "2024-08-31T05:59:19.134613Z",
          "shell.execute_reply.started": "2024-08-31T05:59:19.117009Z",
          "shell.execute_reply": "2024-08-31T05:59:19.133093Z"
        },
        "trusted": true,
        "id": "7FW3YGzBnzuO"
      },
      "execution_count": null,
      "outputs": []
    },
    {
      "cell_type": "code",
      "source": [
        "from sklearn.model_selection import train_test_split\n",
        "\n",
        "# Misalkan df adalah DataFrame yang memuat dataset Anda\n",
        "# X adalah fitur, y adalah label/target\n",
        "X = df.drop(columns=['diagnosis'])  # Ganti 'label_column' dengan nama kolom label Anda\n",
        "y = df['diagnosis']\n",
        "\n",
        "# Membagi data menjadi 70% data latih dan 30% data uji\n",
        "X_train, X_test, y_train, y_test = train_test_split(X, y, test_size=0.3, random_state=42)\n",
        "\n",
        "# Menampilkan hasil pembagian\n",
        "print(f\"Ukuran Data Latih: {X_train.shape[0]}\")\n",
        "print(f\"Ukuran Data Uji: {X_test.shape[0]}\")\n"
      ],
      "metadata": {
        "execution": {
          "iopub.status.busy": "2024-08-31T05:59:22.745447Z",
          "iopub.execute_input": "2024-08-31T05:59:22.745998Z",
          "iopub.status.idle": "2024-08-31T05:59:22.761565Z",
          "shell.execute_reply.started": "2024-08-31T05:59:22.745948Z",
          "shell.execute_reply": "2024-08-31T05:59:22.759874Z"
        },
        "trusted": true,
        "id": "KS8GoPexnzuP"
      },
      "execution_count": null,
      "outputs": []
    },
    {
      "cell_type": "code",
      "source": [
        "# Pipeline untuk scaling data dan pelatihan SVM\n",
        "pipeline = Pipeline([\n",
        "    ('scaler', StandardScaler()),  # Normalisasi data\n",
        "    ('svm', SVC(kernel='linear', C=1, random_state=42))  # Model SVM dengan kernel linear\n",
        "])\n"
      ],
      "metadata": {
        "execution": {
          "iopub.status.busy": "2024-08-31T06:13:41.583171Z",
          "iopub.execute_input": "2024-08-31T06:13:41.583868Z",
          "iopub.status.idle": "2024-08-31T06:13:41.59247Z",
          "shell.execute_reply.started": "2024-08-31T06:13:41.583802Z",
          "shell.execute_reply": "2024-08-31T06:13:41.590584Z"
        },
        "trusted": true,
        "id": "ZL6ahOImnzuR"
      },
      "execution_count": null,
      "outputs": []
    },
    {
      "cell_type": "code",
      "source": [
        "# Me# Melatih model menggunakan data latih\n",
        "pipeline.fit(X_train, y_train)\n",
        "\n",
        "# Memprediksi data latih (untuk evaluasi internal)\n",
        "y_train_pred = pipeline.predict(X_train)\n",
        "\n",
        "# Evaluasi model pada data latih\n",
        "accuracy_train = accuracy_score(y_train, y_train_pred)\n",
        "print(f'Akurasi Model pada Data Latih: {accuracy_train:.2f}')\n",
        "\n",
        "# Menampilkan laporan klasifikasi\n",
        "print(classification_report(y_train, y_train_pred))\n"
      ],
      "metadata": {
        "execution": {
          "iopub.status.busy": "2024-08-31T06:13:51.745316Z",
          "iopub.execute_input": "2024-08-31T06:13:51.745913Z",
          "iopub.status.idle": "2024-08-31T06:13:51.784562Z",
          "shell.execute_reply.started": "2024-08-31T06:13:51.745855Z",
          "shell.execute_reply": "2024-08-31T06:13:51.782971Z"
        },
        "trusted": true,
        "id": "-IYEGrVJnzuS"
      },
      "execution_count": null,
      "outputs": []
    },
    {
      "cell_type": "code",
      "source": [
        "# Menghitung dan menampilkan confusion matrix\n",
        "cm = confusion_matrix(y_train, y_train_pred)\n",
        "disp = ConfusionMatrixDisplay(confusion_matrix=cm, display_labels=pipeline.classes_)\n",
        "disp.plot(cmap=plt.cm.Blues)\n",
        "plt.title('Confusion Matrix pada Data Latih')\n",
        "plt.savefig('datalatih.png')\n",
        "plt.show()\n",
        "\n",
        "# Evaluasi akurasi dan laporan klasifikasi\n",
        "accuracy_train = accuracy_score(y_train, y_train_pred)\n",
        "print(f'Akurasi Model pada Data Latih: {accuracy_train:.3f}')\n",
        "print(classification_report(y_train, y_train_pred))\n"
      ],
      "metadata": {
        "execution": {
          "iopub.status.busy": "2024-08-31T06:15:05.380516Z",
          "iopub.execute_input": "2024-08-31T06:15:05.38126Z",
          "iopub.status.idle": "2024-08-31T06:15:06.264813Z",
          "shell.execute_reply.started": "2024-08-31T06:15:05.381189Z",
          "shell.execute_reply": "2024-08-31T06:15:06.263463Z"
        },
        "trusted": true,
        "id": "gVueA4oXnzuT"
      },
      "execution_count": null,
      "outputs": []
    },
    {
      "cell_type": "code",
      "source": [
        "# Memprediksi data uji dengan model terbaik dari GridSearch\n",
        "best_model = grid_search.best_estimator_\n",
        "y_pred = best_model.predict(X_test)\n",
        "\n",
        "# Menghitung dan menampilkan confusion matrix\n",
        "cm = confusion_matrix(y_test, y_pred)\n",
        "disp = ConfusionMatrixDisplay(confusion_matrix=cm, display_labels=best_model.classes_)\n",
        "disp.plot(cmap=plt.cm.Blues)\n",
        "plt.title('Confusion Matrix SVM Terbaik')\n",
        "plt.show()\n"
      ],
      "metadata": {
        "execution": {
          "iopub.status.busy": "2024-08-31T06:11:51.895885Z",
          "iopub.execute_input": "2024-08-31T06:11:51.89725Z",
          "iopub.status.idle": "2024-08-31T06:11:52.215332Z",
          "shell.execute_reply.started": "2024-08-31T06:11:51.897188Z",
          "shell.execute_reply": "2024-08-31T06:11:52.213859Z"
        },
        "trusted": true,
        "id": "SN4P_AzVnzuV"
      },
      "execution_count": null,
      "outputs": []
    },
    {
      "cell_type": "code",
      "source": [
        "# Inisialisasi model SVM\n",
        "model_svm = SVC(kernel='linear', random_state=42)\n",
        "\n",
        "# Melakukan training pada data latih\n",
        "model_svm.fit(X_train, y_train)\n",
        "\n",
        "# Memprediksi data uji\n",
        "y_pred = model_svm.predict(X_test)\n",
        "\n",
        "# Evaluasi model\n",
        "accuracy = accuracy_score(y_test, y_pred)\n",
        "print(f'Akurasi Model SVM: {accuracy:.2f}')\n",
        "\n",
        "# Menampilkan laporan klasifikasi\n",
        "print(classification_report(y_test, y_pred))\n"
      ],
      "metadata": {
        "execution": {
          "iopub.status.busy": "2024-08-31T05:59:25.556599Z",
          "iopub.execute_input": "2024-08-31T05:59:25.55716Z",
          "iopub.status.idle": "2024-08-31T05:59:27.8404Z",
          "shell.execute_reply.started": "2024-08-31T05:59:25.5571Z",
          "shell.execute_reply": "2024-08-31T05:59:27.83896Z"
        },
        "trusted": true,
        "id": "FTs3uOb4nzuW"
      },
      "execution_count": null,
      "outputs": []
    },
    {
      "cell_type": "code",
      "source": [
        "from sklearn.model_selection import GridSearchCV\n",
        "from sklearn.svm import SVC\n",
        "from sklearn.preprocessing import StandardScaler\n",
        "from sklearn.pipeline import Pipeline\n",
        "from sklearn.metrics import classification_report, accuracy_score\n",
        "\n",
        "# Pipeline untuk scaling data dan training SVM\n",
        "pipeline = Pipeline([\n",
        "    ('scaler', StandardScaler()),  # Normalisasi data\n",
        "    ('svm', SVC())  # Model SVM\n",
        "])\n",
        "\n",
        "# Grid parameter untuk tuning SVM\n",
        "param_grid = {\n",
        "    'svm__C': [0.1, 1, 10, 100],  # Regularization parameter\n",
        "    'svm__gamma': ['scale', 'auto', 0.001, 0.01, 0.1, 1],  # Kernel coefficient\n",
        "    'svm__kernel': ['rbf', 'linear']  # Jenis kernel\n",
        "}\n"
      ],
      "metadata": {
        "execution": {
          "iopub.status.busy": "2024-08-31T05:59:31.754697Z",
          "iopub.execute_input": "2024-08-31T05:59:31.755332Z",
          "iopub.status.idle": "2024-08-31T05:59:31.769484Z",
          "shell.execute_reply.started": "2024-08-31T05:59:31.755271Z",
          "shell.execute_reply": "2024-08-31T05:59:31.767838Z"
        },
        "trusted": true,
        "id": "nSIn9C1unzuY"
      },
      "execution_count": null,
      "outputs": []
    },
    {
      "cell_type": "code",
      "source": [
        "# Menjalankan GridSearchCV\n",
        "grid_search = GridSearchCV(pipeline, param_grid, cv=5, scoring='accuracy', n_jobs=-1, verbose=2)\n",
        "grid_search.fit(X_train, y_train)\n",
        "\n",
        "# Menampilkan hasil terbaik\n",
        "print(f\"Best Parameters: {grid_search.best_params_}\")\n",
        "print(f\"Best Cross-Validation Accuracy: {grid_search.best_score_:.2f}\")\n"
      ],
      "metadata": {
        "execution": {
          "iopub.status.busy": "2024-08-31T05:59:34.905915Z",
          "iopub.execute_input": "2024-08-31T05:59:34.906866Z",
          "iopub.status.idle": "2024-08-31T05:59:39.315261Z",
          "shell.execute_reply.started": "2024-08-31T05:59:34.906801Z",
          "shell.execute_reply": "2024-08-31T05:59:39.313816Z"
        },
        "trusted": true,
        "id": "0zY6hWFsnzuc"
      },
      "execution_count": null,
      "outputs": []
    },
    {
      "cell_type": "code",
      "source": [
        "# Memprediksi data uji dengan model terbaik\n",
        "best_model = grid_search.best_estimator_\n",
        "y_pred = best_model.predict(X_test)\n",
        "\n",
        "# Evaluasi performa model\n",
        "accuracy = accuracy_score(y_test, y_pred)\n",
        "print(f'Akurasi Model Terbaik pada Data Uji: {accuracy:.3f}')\n",
        "print(classification_report(y_test, y_pred))\n"
      ],
      "metadata": {
        "execution": {
          "iopub.status.busy": "2024-08-31T05:59:39.317677Z",
          "iopub.execute_input": "2024-08-31T05:59:39.318108Z",
          "iopub.status.idle": "2024-08-31T05:59:39.341655Z",
          "shell.execute_reply.started": "2024-08-31T05:59:39.318043Z",
          "shell.execute_reply": "2024-08-31T05:59:39.340141Z"
        },
        "trusted": true,
        "id": "JgN1hhPVnzuf"
      },
      "execution_count": null,
      "outputs": []
    },
    {
      "cell_type": "code",
      "source": [
        "from sklearn.metrics import confusion_matrix, ConfusionMatrixDisplay\n",
        "import matplotlib.pyplot as plt\n",
        "\n",
        "# Menghitung confusion matrix\n",
        "cm = confusion_matrix(y_test, y_pred)\n",
        "\n",
        "# Menampilkan confusion matrix\n",
        "disp = ConfusionMatrixDisplay(confusion_matrix=cm, display_labels=best_model.classes_)\n",
        "disp.plot(cmap=plt.cm.Blues)\n",
        "plt.title('Confusion Matrix SVM')\n",
        "plt.savefig('Matrix.png')\n",
        "plt.show()\n"
      ],
      "metadata": {
        "execution": {
          "iopub.status.busy": "2024-08-31T05:59:49.696993Z",
          "iopub.execute_input": "2024-08-31T05:59:49.697638Z",
          "iopub.status.idle": "2024-08-31T05:59:50.144326Z",
          "shell.execute_reply.started": "2024-08-31T05:59:49.697579Z",
          "shell.execute_reply": "2024-08-31T05:59:50.142937Z"
        },
        "trusted": true,
        "id": "eio1bBMgnzug"
      },
      "execution_count": null,
      "outputs": []
    },
    {
      "cell_type": "code",
      "source": [],
      "metadata": {
        "id": "Gt70AeSknzuh"
      },
      "execution_count": null,
      "outputs": []
    }
  ]
}